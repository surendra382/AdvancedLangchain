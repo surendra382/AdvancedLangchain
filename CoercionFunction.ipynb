{
  "nbformat": 4,
  "nbformat_minor": 0,
  "metadata": {
    "colab": {
      "provenance": []
    },
    "kernelspec": {
      "name": "python3",
      "display_name": "Python 3"
    },
    "language_info": {
      "name": "python"
    }
  },
  "cells": [
    {
      "cell_type": "code",
      "source": [
        "!pip install langchain_groq langchain"
      ],
      "metadata": {
        "id": "3gYCz1qoDneX"
      },
      "execution_count": null,
      "outputs": []
    },
    {
      "cell_type": "code",
      "source": [
        "import os\n",
        "from google.colab import userdata\n",
        "os.environ[\"LANGCHAIN_TRACING_V2\"] = \"true\"\n",
        "os.environ[\"LANGCHAIN_API_KEY\"] = userdata.get('LANGCHAIN_API_KEY')\n",
        "os.environ[\"GROQ_API_KEY\"] = userdata.get(\"GROQ_API_KEY\")"
      ],
      "metadata": {
        "id": "x2N6nnSXDmXS"
      },
      "execution_count": 8,
      "outputs": []
    },
    {
      "cell_type": "code",
      "execution_count": null,
      "metadata": {
        "id": "xXZ4HyC1qOq9"
      },
      "outputs": [],
      "source": [
        "from langchain_core.prompts import ChatPromptTemplate\n",
        "from langchain_groq import ChatGroq\n",
        "from langchain_core.output_parsers import StrOutputParser\n",
        "\n",
        "# Define our function\n",
        "def get_weather_of(city):\n",
        "    if city == \"Paris\":\n",
        "        return \"cloudy\"\n",
        "    if city == \"London\":\n",
        "        return \"rainy\"\n",
        "    return \"cloudy\"\n"
      ]
    },
    {
      "cell_type": "code",
      "source": [
        "\n",
        "# Define a prompt template\n",
        "template = \"What should I wear if the weather today is {weather}?\"\n",
        "prompt = ChatPromptTemplate.from_template(template)\n",
        "\n",
        "# Model (can be any supported LLM)\n",
        "model = ChatGroq()\n",
        "\n",
        "# Output parser\n",
        "output_parser = StrOutputParser()"
      ],
      "metadata": {
        "id": "iJHkMwsiNB3P"
      },
      "execution_count": null,
      "outputs": []
    },
    {
      "cell_type": "code",
      "source": [
        "\n",
        "# Chain with function coercion\n",
        "weather_chain = (\n",
        "    (lambda input: get_weather_of(input)) |  # Coerced function\n",
        "    prompt |                                # Prompt template\n",
        "    model |                                 # LLM model\n",
        "    output_parser                           # Output parser\n",
        ")"
      ],
      "metadata": {
        "id": "8KZ6M-rCNFKb"
      },
      "execution_count": null,
      "outputs": []
    },
    {
      "cell_type": "code",
      "source": [
        "# Try it out\n",
        "result = weather_chain.invoke(\"London\")\n",
        "print(result)"
      ],
      "metadata": {
        "id": "sxPzVuWzNG7Z"
      },
      "execution_count": null,
      "outputs": []
    }
  ]
}