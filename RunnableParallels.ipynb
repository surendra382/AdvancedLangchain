{
  "nbformat": 4,
  "nbformat_minor": 0,
  "metadata": {
    "colab": {
      "provenance": []
    },
    "kernelspec": {
      "name": "python3",
      "display_name": "Python 3"
    },
    "language_info": {
      "name": "python"
    }
  },
  "cells": [
    {
      "cell_type": "code",
      "source": [
        "!pip install langchain langchain_groq"
      ],
      "metadata": {
        "id": "lk9Wwi3b4S54"
      },
      "execution_count": null,
      "outputs": []
    },
    {
      "cell_type": "code",
      "source": [
        "import os\n",
        "from google.colab import userdata\n",
        "os.environ[\"LANGCHAIN_TRACING_V2\"] = \"true\"\n",
        "os.environ[\"LANGCHAIN_API_KEY\"] = userdata.get('LANGCHAIN_API_KEY')\n",
        "os.environ[\"GROQ_API_KEY\"] = userdata.get(\"GROQ_API_KEY\")"
      ],
      "metadata": {
        "id": "zto77Bdu4Zat"
      },
      "execution_count": 5,
      "outputs": []
    },
    {
      "cell_type": "code",
      "source": [
        "from langchain_core.prompts import ChatPromptTemplate\n",
        "from langchain_groq import ChatGroq\n",
        "from langchain_core.output_parsers import StrOutputParser"
      ],
      "metadata": {
        "id": "yUeJE-Ua4Ooi"
      },
      "execution_count": 6,
      "outputs": []
    },
    {
      "cell_type": "code",
      "execution_count": 7,
      "metadata": {
        "colab": {
          "base_uri": "https://localhost:8080/"
        },
        "id": "ODj9EDfa4LLQ",
        "outputId": "eba12207-b17f-4e49-e3e1-11f66a45fcf2"
      },
      "outputs": [
        {
          "output_type": "stream",
          "name": "stdout",
          "text": [
            "If the weather is cloudy and the temperature is 15 degrees Celsius (59 degrees Fahrenheit), you should wear comfortable fall or spring clothing. Here are some suggestions:\n",
            "\n",
            "1. Long sleeves: opt for a lightweight shirt or blouse with long sleeves to keep you warm.\n",
            "2. Light jacket or sweater: a lightweight jacket or sweater will provide additional warmth, especially if there's a cool breeze.\n",
            "3. Pants or leggings: choose comfortable pants or leggings made of a breathable fabric to protect your legs from the cool temperature.\n",
            "4. Comfortable shoes: wear shoes that are suitable for the occasion and provide enough comfort and support for walking.\n",
            "5. Accessories: consider adding a scarf or hat to your outfit for extra warmth, especially if you tend to feel cold easily.\n",
            "\n",
            "Overall, dress in layers so you can adjust your clothing as needed throughout the day. Also, be prepared for possible rain showers, as cloudy weather can sometimes bring unexpected rain.\n"
          ]
        }
      ],
      "source": [
        "# Define two functions\n",
        "def get_temperature(city):\n",
        "    if city == \"Paris\":\n",
        "        return 15\n",
        "    if city == \"London\":\n",
        "        return 10\n",
        "    if city == \"San Francisco\":\n",
        "        return 20\n",
        "    return 25\n",
        "\n",
        "def get_weather(city):\n",
        "    if city == \"Paris\":\n",
        "        return \"cloudy\"\n",
        "    if city == \"London\":\n",
        "        return \"rainy\"\n",
        "    return \"cloudy\"\n",
        "\n",
        "# Define the prompt\n",
        "prompt = ChatPromptTemplate.from_template(\n",
        "    \"What should I wear if the weather is {weather} and the temperature is {temperature} degrees Celsius?\"\n",
        ")\n",
        "\n",
        "# Create the chain\n",
        "chain = (prompt | ChatGroq() | StrOutputParser())\n",
        "\n",
        "# Use RunnableParallel to run functions concurrently\n",
        "composed_chain = (\n",
        "    {\n",
        "        \"weather\": lambda input: get_weather(input),\n",
        "        \"temperature\": lambda input: get_temperature(input)\n",
        "    }\n",
        "    | chain\n",
        ")\n",
        "\n",
        "# Invoke the chain\n",
        "result = composed_chain.invoke(\"Paris\")\n",
        "print(result)"
      ]
    }
  ]
}