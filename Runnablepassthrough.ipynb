{
  "nbformat": 4,
  "nbformat_minor": 0,
  "metadata": {
    "colab": {
      "provenance": []
    },
    "kernelspec": {
      "name": "python3",
      "display_name": "Python 3"
    },
    "language_info": {
      "name": "python"
    }
  },
  "cells": [
    {
      "cell_type": "markdown",
      "source": [
        "#Runnable PassThrough\n",
        "Runnable pass-throughs are used to pass the value of a previous step in a chain to the next step without modification.\n",
        "This is useful for scenarios where you need to use the output of one step as input for another step (not exactly next but steps following it)."
      ],
      "metadata": {
        "id": "lUOG7nXXQcy_"
      }
    },
    {
      "cell_type": "code",
      "source": [
        "!pip install -qU langchain langchain-groq langchain_community langchain-huggingface faiss-gpu"
      ],
      "metadata": {
        "collapsed": true,
        "id": "3nXma8eIBc0p"
      },
      "execution_count": 38,
      "outputs": []
    },
    {
      "cell_type": "code",
      "source": [
        "import os\n",
        "from google.colab import userdata\n",
        "os.environ[\"LANGCHAIN_TRACING_V2\"] = \"true\"\n",
        "os.environ[\"LANGCHAIN_API_KEY\"] = userdata.get('LANGCHAIN_API_KEY')\n",
        "os.environ[\"GROQ_API_KEY\"] = userdata.get(\"GROQ_API_KEY\")\n",
        "os.environ[\"OPENAI_API_KEY\"] = userdata.get(\"OPENAI_API_KEY\")"
      ],
      "metadata": {
        "id": "nRfZa2-nCGVI"
      },
      "execution_count": 39,
      "outputs": []
    },
    {
      "cell_type": "code",
      "source": [
        "from langchain_community.vectorstores import FAISS\n",
        "from langchain_core.output_parsers import StrOutputParser\n",
        "from langchain_core.prompts import ChatPromptTemplate\n",
        "from langchain_core.runnables import RunnablePassthrough\n",
        "from langchain_openai import OpenAIEmbeddings\n",
        "from langchain_groq import ChatGroq"
      ],
      "metadata": {
        "id": "OFXMRE3dELkJ"
      },
      "execution_count": 40,
      "outputs": []
    },
    {
      "cell_type": "code",
      "source": [
        "from langchain_huggingface import HuggingFaceEmbeddings\n",
        "\n",
        "embeddings = HuggingFaceEmbeddings(model_name=\"sentence-transformers/all-mpnet-base-v2\")"
      ],
      "metadata": {
        "id": "PWLsdFASJuMM"
      },
      "execution_count": null,
      "outputs": []
    },
    {
      "cell_type": "code",
      "source": [
        "# Setup for vector store and retriever\n",
        "vectorstore = FAISS.from_texts(\n",
        "    [\"Vinod kamli is oldest friend of Sachin\"], embedding=embeddings\n",
        ")"
      ],
      "metadata": {
        "id": "rKjsUrTlENOo"
      },
      "execution_count": 42,
      "outputs": []
    },
    {
      "cell_type": "code",
      "execution_count": 44,
      "metadata": {
        "id": "vWovqLZTBVxH"
      },
      "outputs": [],
      "source": [
        "retriever = vectorstore.as_retriever()\n",
        "\n",
        "# Define the prompt template\n",
        "template = \"\"\"Answer the question based only on the following context:\n",
        "{context}\n",
        "\n",
        "Question: {question}\n",
        "\"\"\"\n",
        "prompt = ChatPromptTemplate.from_template(template)\n",
        "model = ChatGroq()\n",
        "\n",
        "# Create the chain with retrieval and pass-through\n",
        "retrieval_chain = (\n",
        "    {\n",
        "        \"context\": retriever,\n",
        "        \"question\": RunnablePassthrough()\n",
        "    }  # Pass-through step\n",
        "    | prompt\n",
        "    | model\n",
        "    | StrOutputParser()\n",
        ")"
      ]
    },
    {
      "cell_type": "code",
      "source": [
        "# Example invocation\n",
        "result = retrieval_chain.invoke(\"Who is the oldest friend of Sachin?\")\n",
        "print(result)"
      ],
      "metadata": {
        "colab": {
          "base_uri": "https://localhost:8080/"
        },
        "id": "8QV52VVDOAps",
        "outputId": "91b7bc68-0b99-483a-df88-08f06e76c303"
      },
      "execution_count": 46,
      "outputs": [
        {
          "output_type": "stream",
          "name": "stdout",
          "text": [
            "Based on the provided context, Vinod Kamli is the oldest friend of Sachin.\n"
          ]
        }
      ]
    }
  ]
}