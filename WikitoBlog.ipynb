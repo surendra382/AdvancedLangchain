{
  "nbformat": 4,
  "nbformat_minor": 0,
  "metadata": {
    "colab": {
      "provenance": []
    },
    "kernelspec": {
      "name": "python3",
      "display_name": "Python 3"
    },
    "language_info": {
      "name": "python"
    }
  },
  "cells": [
    {
      "cell_type": "code",
      "source": [
        "wikipedia_article=\"\"\"\n",
        "Jodhpur (Hindi pronunciation: [ˈd͡ʒoːd̪ʱpʊr] ⓘ) is the second-largest city of the north-western Indian state of Rajasthan after its capital Jaipur. As of 2023, the city has a population of 1.83 million.[11] It serves as the administrative headquarters of the Jodhpur district and Jodhpur division. It is historic capital of the Kingdom of Marwar, founded in 1459 by Rao Jodha, a Rajput chief of the Rathore clan.[12] On 11 August 1947, 4 days prior to the Indian independence, Maharaja Hanwant Singh the last ruler of Jodhpur state signed the Instrument of Accession and merged his state in Union of India.[13] On 30 March 1949, it became part of the newly formed state of Rajasthan, which was created after merging the states of the erstwhile Rajputana Agency.[14]\n",
        "\n",
        "Jodhpur is a famous tourist spot with a palace, fort, and temples, set in the stark landscape of the Thar Desert. It is also known as the 'Blue City' due to the dominant color scheme of its buildings in the old town.[1] The old city circles the Mehrangarh Fort and is bounded by a wall with several gates.[15] Jodhpur lies near the geographic centre of the Rajasthan state, which makes it a convenient base for travel in a region much frequented by tourists.[1]\n",
        "\"\"\""
      ],
      "metadata": {
        "id": "eBmKN-Swfll2"
      },
      "execution_count": 1,
      "outputs": []
    },
    {
      "cell_type": "code",
      "source": [
        "!pip install langchain langchain-groq"
      ],
      "metadata": {
        "id": "893Y48kFiynE"
      },
      "execution_count": null,
      "outputs": []
    },
    {
      "cell_type": "code",
      "source": [
        "import os\n",
        "from google.colab import userdata\n",
        "os.environ[\"LANGCHAIN_TRACING_V2\"] = \"true\"\n",
        "os.environ[\"LANGCHAIN_API_KEY\"] = userdata.get('LANGCHAIN_API_KEY')\n",
        "os.environ[\"GROQ_API_KEY\"] = userdata.get(\"GROQ_API_KEY\")"
      ],
      "metadata": {
        "id": "If81NOqejHuB"
      },
      "execution_count": 3,
      "outputs": []
    },
    {
      "cell_type": "code",
      "source": [
        "from langchain_core.prompts import ChatPromptTemplate\n",
        "from langchain_groq import ChatGroq\n",
        "from langchain_core.output_parsers import StrOutputParser\n",
        "\n",
        "# Prompt for extracting key information\n",
        "extract_prompt = ChatPromptTemplate.from_template(\n",
        "\"\"\"\n",
        "Given the following wikipedia article, create an outline for an engaging blog newspaper article about it.\n",
        "\n",
        "Article:\n",
        "{article}\n",
        "\"\"\")\n",
        "\n",
        "# Model and parser\n",
        "model = ChatGroq(model='llama-3.3-70b-versatile')\n",
        "output_parser = StrOutputParser()\n",
        "\n",
        "# Chain for extraction\n",
        "extraction_chain = extract_prompt | model | output_parser\n",
        "\n",
        "# Example extraction\n",
        "outline = extraction_chain.invoke(wikipedia_article)\n",
        "print(outline)"
      ],
      "metadata": {
        "id": "6UzgASV8ixPM",
        "colab": {
          "base_uri": "https://localhost:8080/"
        },
        "outputId": "d9c91c58-a0df-4d98-dbad-f1d798089217"
      },
      "execution_count": 5,
      "outputs": [
        {
          "output_type": "stream",
          "name": "stdout",
          "text": [
            "Here's a suggested outline for an engaging blog newspaper article about Jodhpur:\n",
            "\n",
            "**Title:** \"Discover the Blue City: Unveiling the Charm of Jodhpur, Rajasthan\"\n",
            "\n",
            "**I. Introduction**\n",
            "\n",
            "* Briefly introduce Jodhpur as the second-largest city in Rajasthan, India\n",
            "* Mention its rich history and cultural significance\n",
            "* Preview the article's focus on Jodhpur's tourist attractions and unique features\n",
            "\n",
            "**II. A City Steeped in History**\n",
            "\n",
            "* Delve into Jodhpur's founding by Rao Jodha in 1459 and its role as the capital of the Kingdom of Marwar\n",
            "* Discuss the city's significance in Indian history, including its merger with the Union of India in 1947\n",
            "* Highlight the city's architectural heritage, including the Mehrangarh Fort and other historic landmarks\n",
            "\n",
            "**III. The Blue City: A Unique Attraction**\n",
            "\n",
            "* Explain the origin of Jodhpur's nickname, \"The Blue City\"\n",
            "* Describe the city's distinctive blue-colored buildings and their significance\n",
            "* Share stunning images or videos of the city's blue landscape\n",
            "\n",
            "**IV. A Tourist's Paradise**\n",
            "\n",
            "* Showcase Jodhpur's top tourist attractions, including the Mehrangarh Fort, palaces, and temples\n",
            "* Highlight the city's strategic location, making it an ideal base for exploring Rajasthan\n",
            "* Provide tips and recommendations for visitors, including best times to visit and local experiences to try\n",
            "\n",
            "**V. Conclusion**\n",
            "\n",
            "* Summarize Jodhpur's unique charm and attractions\n",
            "* Encourage readers to visit the city and experience its rich history, culture, and natural beauty for themselves\n",
            "\n",
            "This outline should provide a solid foundation for a engaging and informative article about Jodhpur, showcasing its history, culture, and tourist attractions.\n"
          ]
        }
      ]
    },
    {
      "cell_type": "code",
      "source": [
        "# Prompt for summarizing concepts\n",
        "summarize_prompt = ChatPromptTemplate.from_template(\n",
        "\"\"\"\n",
        "You are a senior, highly experienced journalist with deep expertise in the following topic:\n",
        "<TOPIC>{context}</TOPIC>.\n",
        "\n",
        "Your extensive knowledge allows you to provide thorough insights and nuanced perspectives on this subject. Using your expertise, write a comprehensive newspaper article that adheres to the following outline:\n",
        "<OUTLINE>{outline}</OUTLINE>.\n",
        "\"\"\")\n",
        "\n",
        "# Chain for summarizing\n",
        "summary_chain = summarize_prompt | model | output_parser\n",
        "\n",
        "article = summary_chain.invoke({\n",
        "    \"context\": wikipedia_article,\n",
        "    \"outline\": outline\n",
        "  })\n",
        "\n",
        "print(article)"
      ],
      "metadata": {
        "colab": {
          "base_uri": "https://localhost:8080/"
        },
        "id": "EL4wc1-KjZHH",
        "outputId": "bc0f604e-87e7-47c7-99a6-3b0a22393d66"
      },
      "execution_count": 6,
      "outputs": [
        {
          "output_type": "stream",
          "name": "stdout",
          "text": [
            "**Discover the Blue City: Unveiling the Charm of Jodhpur, Rajasthan**\n",
            "\n",
            "Jodhpur, the second-largest city in the northwestern Indian state of Rajasthan, is a treasure trove of rich history, cultural significance, and breathtaking natural beauty. With a population of over 1.8 million, this vibrant city has been a hub of activity for centuries, attracting visitors from all over the world with its unique charm and attractions. In this article, we will delve into the fascinating history of Jodhpur, explore its stunning tourist attractions, and uncover the secrets behind its nickname, \"The Blue City.\"\n",
            "\n",
            "**A City Steeped in History**\n",
            "\n",
            "Jodhpur's history dates back to 1459, when it was founded by Rao Jodha, a Rajput chief of the Rathore clan. The city served as the capital of the Kingdom of Marwar, a powerful and influential state in the region. Over the centuries, Jodhpur played a significant role in Indian history, with its rulers forging alliances and waging wars with neighboring kingdoms. In 1947, just four days before India gained independence, Maharaja Hanwant Singh, the last ruler of Jodhpur state, signed the Instrument of Accession, merging his state with the Union of India. This marked the beginning of a new era for Jodhpur, as it became part of the newly formed state of Rajasthan in 1949.\n",
            "\n",
            "Jodhpur's architectural heritage is a testament to its rich history, with the Mehrangarh Fort being one of its most iconic landmarks. This imposing fort, built in the 15th century, is a masterpiece of Rajput architecture, with its intricate carvings, ornate palaces, and stunning views of the city. Other historic landmarks, such as the Umaid Bhawan Palace and the Jaswant Thada, add to the city's cultural and historical significance.\n",
            "\n",
            "**The Blue City: A Unique Attraction**\n",
            "\n",
            "Jodhpur's nickname, \"The Blue City,\" is derived from the dominant color scheme of its buildings in the old town. The city's blue-colored buildings, which are a result of the traditional Rajasthani practice of using indigo dye to cool the buildings and ward off insects, give Jodhpur a unique and breathtaking appearance. The blue landscape is a sight to behold, with the Mehrangarh Fort looming large in the background. Visitors can take stunning photos and videos of the city's blue landscape, which is especially beautiful during sunrise and sunset.\n",
            "\n",
            "**A Tourist's Paradise**\n",
            "\n",
            "Jodhpur is a tourist's paradise, with its rich history, cultural significance, and natural beauty making it an ideal destination for travelers. The city's top tourist attractions include the Mehrangarh Fort, the Umaid Bhawan Palace, and the Jaswant Thada, among others. Visitors can explore the city's narrow streets, lined with shops, restaurants, and historic landmarks, and experience the local culture and cuisine.\n",
            "\n",
            "Jodhpur's strategic location makes it an ideal base for exploring Rajasthan, with its proximity to other popular tourist destinations such as Jaipur, Udaipur, and Jaisalmer. Visitors can take day trips to these destinations or use Jodhpur as a base for longer excursions into the state. The best time to visit Jodhpur is during the winter months, from October to February, when the weather is cool and pleasant. Visitors can also experience the city's vibrant festivals and events, such as the Jodhpur Desert Festival and the Marwar Festival, which showcase the city's rich cultural heritage.\n",
            "\n",
            "**Conclusion**\n",
            "\n",
            "Jodhpur, the Blue City, is a must-visit destination for anyone interested in history, culture, and natural beauty. With its rich history, stunning tourist attractions, and unique charm, Jodhpur is a city that will leave visitors spellbound and inspired. Whether you are a history buff, a culture vulture, or an adventure seeker, Jodhpur has something to offer everyone. So come and discover the charm of Jodhpur, and experience the magic of this incredible city for yourself.\n"
          ]
        }
      ]
    },
    {
      "cell_type": "code",
      "source": [
        "from langchain_core.runnables import RunnablePassthrough\n",
        "\n",
        "composed_chain = (\n",
        "    {\"outline\": extraction_chain, \"context\": RunnablePassthrough()}\n",
        "    | summary_chain\n",
        ")\n",
        "\n",
        "article = composed_chain.invoke(wikipedia_article)\n",
        "print(article)"
      ],
      "metadata": {
        "colab": {
          "base_uri": "https://localhost:8080/"
        },
        "id": "4270QZvAj3DY",
        "outputId": "7bd978f0-014f-4f42-d253-0805149b18eb"
      },
      "execution_count": 7,
      "outputs": [
        {
          "output_type": "stream",
          "name": "stdout",
          "text": [
            "**Discover the Blue City: Unveiling the Hidden Gem of Jodhpur, India**\n",
            "\n",
            "Tucked away in the north-western Indian state of Rajasthan, Jodhpur is a fascinating city that has been captivating the hearts of travelers and history enthusiasts alike for centuries. With its rich history, stunning architecture, and unique cultural charm, Jodhpur is a destination that promises to leave a lasting impression on all who visit. As the second-largest city in Rajasthan, Jodhpur is a treasure trove of experiences waiting to be uncovered, and in this article, we will delve into the city's captivating history, its distinctive blue charm, and its appeal as a traveler's paradise.\n",
            "\n",
            "**A City Steeped in History**\n",
            "\n",
            "Jodhpur's history dates back to 1459, when it was founded by Rao Jodha, a Rajput chief of the Rathore clan. The city served as the capital of the Kingdom of Marwar, playing a significant role in the region's politics and culture. As India struggled for independence, Jodhpur played a crucial part in the country's freedom movement. On August 11, 1947, just four days before India gained independence, Maharaja Hanwant Singh, the last ruler of Jodhpur state, signed the Instrument of Accession, merging his state with the Union of India. This historic event marked the beginning of a new era for Jodhpur, as it became an integral part of the newly formed state of Rajasthan in 1949.\n",
            "\n",
            "**The Blue City's Unique Charm**\n",
            "\n",
            "Jodhpur is famously known as the \"Blue City\" due to the dominant blue color scheme of its buildings in the old town. The origins of this unique phenomenon are shrouded in mystery, with some attributing it to the blue paint used to signify the homes of Brahmins, the highest caste in Hindu society. Others believe that the blue color was used to keep the buildings cool in the scorching desert heat. Regardless of its origins, the blue hue has become an integral part of Jodhpur's identity, adding to its enchanting charm. The city's stunning architecture, including the imposing Mehrangarh Fort and the intricately carved temples, is a testament to its rich cultural heritage. The old city's walls and gates, which encircle the Mehrangarh Fort, are a marvel in themselves, with each gate telling a story of the city's history and significance. As one wanders through the narrow streets of the old town, the vibrant atmosphere is palpable, with the sounds of vendors, the aroma of street food, and the warmth of the locals creating an unforgettable experience.\n",
            "\n",
            "**A Traveler's Paradise**\n",
            "\n",
            "Strategically located in the heart of Rajasthan, Jodhpur is an ideal base for exploring the region. The city's proximity to the Thar Desert offers endless opportunities for adventure and exploration, from camel safaris to desert camping. Jodhpur is also a hub for cultural attractions, with numerous festivals and traditional events taking place throughout the year. The city's famous Marwar Festival, which celebrates the music, art, and culture of the region, is a must-attend event for any traveler. With its unique blend of history, culture, and natural beauty, Jodhpur is a destination that caters to all kinds of travelers, from history buffs to adventure seekers and culture enthusiasts.\n",
            "\n",
            "**Conclusion**\n",
            "\n",
            "Jodhpur is a city that will leave you enchanted and yearning for more. Its rich history, stunning architecture, and unique cultural charm make it a destination that is hard to resist. As you wander through the blue-hued streets of the old town, taking in the sights and sounds of this captivating city, you will understand why Jodhpur is a hidden gem that is waiting to be discovered. So, come and experience the magic of Jodhpur for yourself, and let the city's charm leave an indelible mark on your heart.\n",
            "\n",
            "**Tips and Recommendations**\n",
            "\n",
            "For travelers planning to visit Jodhpur, here are a few tips and recommendations:\n",
            "\n",
            "* The best time to visit Jodhpur is from October to February, when the weather is cool and pleasant.\n",
            "* Don't miss the stunning views of the city from the Mehrangarh Fort, which offers a panoramic view of the blue-hued old town.\n",
            "* Try the local cuisine, which includes delicious dishes like dal bati churma and laal maans.\n",
            "* Explore the city's vibrant markets, which offer a wide range of handicrafts, textiles, and souvenirs.\n",
            "* Consider staying in a heritage hotel or a homestay to experience the local culture and hospitality.\n",
            "\n",
            "With its unique blend of history, culture, and natural beauty, Jodhpur is a destination that promises to leave a lasting impression on all who visit. So, come and discover the magic of the Blue City, and let its charm stay with you forever.\n"
          ]
        }
      ]
    }
  ]
}